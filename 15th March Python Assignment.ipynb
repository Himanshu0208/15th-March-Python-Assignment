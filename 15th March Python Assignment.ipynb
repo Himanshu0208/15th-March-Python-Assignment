{
 "cells": [
  {
   "cell_type": "markdown",
   "id": "e781a3cc-a89e-4202-8bc8-fbc4b90aa2bf",
   "metadata": {},
   "source": [
    "# __Ques 1__\n",
    "__Artificial Intellligence (AI):__\n",
    "The term AI referce to the computer systems that can perfrom work which normally requeir human intellegence to do that work such as perception, reasoning, learning, and decision-making. AI systems can be divided into two categories: narrow or weak AI, which is designed to perform a specific task, and general or strong AI, which is designed to perform any intellectual task that a human can.<br><br>\n",
    "__Machine Learning (ML):__\n",
    "ML is a subset of AI in that involves the development of algorithms and statistical models that enable machines to learn from data, identify patterns, and make predictions or decisions without being explicitly programmed. ML models can be trained on large datasets, and as they receive more data, they improve their accuracy and performance.<br><br>\n",
    "__Deep Learning (DL):__\n",
    "DL (Deep Learning) is a subset of ML that uses neural networks to model and solve complex problems. Neural networks are a set of interconnected nodes, or neurons, that are organized in layers. DL models can learn from vast amounts of data and can be used to solve a wide range of problems, such as image and speech recognition, natural language processing, and decision-making. DL models require a lot of computational power and specialized hardware, such as GPUs, to train effectively."
   ]
  },
  {
   "cell_type": "markdown",
   "id": "3c307c67-75a8-4a1c-8220-1411f2c9d5ad",
   "metadata": {},
   "source": [
    "# __Ques 2__\n",
    "__Supervised Learning:__\n",
    "it is a ML model in which we use the computer learn to pridict output from some pervious/given data set to train our model, so that it can genrate the output from the given value in the data set. In this the input given is labeled  or classified <br>\n",
    "it is of two types:-\n",
    "1. Classification - In this the genrated output is categorical data set \n",
    "2. Regression - In this the genrated data is continous data set"
   ]
  },
  {
   "cell_type": "markdown",
   "id": "b84acb9f-4bac-4b4b-a040-378cc3f77138",
   "metadata": {},
   "source": [
    "Here are some examples of supervised learning tasks:\n",
    "\n",
    "1. __Image classification:__ Given a set of labeled images, the algorithm learns to classify them into different categories such as animals, vehicles, and so on.\n",
    "\n",
    "1. __Sentiment analysis:__ Given a set of labeled text data, the algorithm learns to classify the text into positive or negative sentiment.\n",
    "\n",
    "1. __Spam filtering:__ Given a set of labeled emails, the algorithm learns to classify them into spam or non-spam categories.\n",
    "\n",
    "1. __Handwriting recognition:__ Given a set of labeled handwritten digits, the algorithm learns to recognize different digits.\n",
    "\n",
    "1. __Predicting stock prices:__ Given a set of labeled stock market data, the algorithm learns to predict future stock prices.\n"
   ]
  },
  {
   "cell_type": "markdown",
   "id": "b27072fd-383e-4c08-8d6e-f4e84c36825d",
   "metadata": {},
   "source": [
    "# __Ques 3__\n",
    "__Unsupervised learning__ is a type of machine learning technique in which the model learns from data that is not labeled or classified. In other words, the algorithm tries to find patterns, structures, or relationships in the input data without any predefined output labels.<br><br>\n",
    "Some examples of unsupervised learning techniques are:\n",
    "\n",
    "1. __Clustering:__ This is a process of grouping similar data points together based on their features. For example, clustering can be used to group similar customers, products, or images.\n",
    "\n",
    "1. __Anomaly detection:__ This is a process of identifying unusual or rare data points in a dataset. For example, anomaly detection can be used to detect fraudulent transactions or network intrusion attempts.\n",
    "\n",
    "1. __Dimensionality reduction:__ This is a process of reducing the number of features in a dataset while preserving the most important information. For example, dimensionality reduction can be used to visualize high-dimensional data or to speed up the training of a model.\n",
    "\n",
    "1. __Generative models:__ This is a process of generating new data that is similar to the training data. For example, generative models can be used to generate realistic images, music, or text.\n",
    "\n",
    "1. __Association rule learning:__ This is a process of finding rules that describe the relationships between different items in a dataset. For example, association rule learning can be used to recommend products or to identify patterns in customer behavior."
   ]
  },
  {
   "cell_type": "markdown",
   "id": "5a1e379b-7b03-4122-8f1b-ecb6c3aced24",
   "metadata": {},
   "source": [
    "# __Ques 4__\n",
    "__Artificial Intellligence (AI):__\n",
    "The term AI referce to the computer systems that can perfrom work which normally requeir human intellegence to do that work such as perception, reasoning, learning, and decision-making. AI systems can be divided into two categories: narrow or weak AI, which is designed to perform a specific task, and general or strong AI, which is designed to perform any intellectual task that a human can.<br><br>\n",
    "__Machine Learning (ML):__\n",
    "ML is a subset of AI in that involves the development of algorithms and statistical models that enable machines to learn from data, identify patterns, and make predictions or decisions without being explicitly programmed. ML models can be trained on large datasets, and as they receive more data, they improve their accuracy and performance.<br><br>\n",
    "__Deep Learning (DL):__\n",
    "DL (Deep Learning) is a subset of ML that uses neural networks to model and solve complex problems. Neural networks are a set of interconnected nodes, or neurons, that are organized in layers. DL models can learn from vast amounts of data and can be used to solve a wide range of problems, such as image and speech recognition, natural language processing, and decision-making. DL models require a lot of computational power and specialized hardware, such as GPUs, to train effectively.\n",
    "__Data scientist (DS):__\n",
    "A DS is a person who can do all the above mentioned things the data scientist is one who can do DL , ML and AI"
   ]
  },
  {
   "cell_type": "markdown",
   "id": "e225a3fd-1cb1-456c-8496-ee1ca768fa1e",
   "metadata": {},
   "source": [
    "# __Ques 5__\n",
    "__Superviesd Learning:__\n",
    "it is a ML model in which we use the computer learn to pridict output from some pervious/given data set to train our model, so that it can genrate the output from the given value in the data set. In this the input given is labeled  or classified <br>\n",
    "it is of two types:-\n",
    "1. Classification - In this the genrated output is categorical data set \n",
    "2. Regression - In this the genrated data is continous data set\n",
    "\n",
    "__Unsupervised learning__ is a type of machine learning technique in which the model learns from data that is not labeled or classified. In other words, the algorithm tries to find patterns, structures, or relationships in the input data without any predefined output labels.<br><br>\n",
    "__Semi-Supervised Learning:__\n",
    "It is a learnign method in whcih we use the concept of both supervised learnign and semi-supervised learning. In semi-supervised learning, the algorithm is trained on a dataset that contains both labeled and unlabeled data. The goal of semi-supervised learning is to use the labeled data to learn the relationship between the input features and the output labels, and then use the unlabeled data to improve the accuracy of the model."
   ]
  },
  {
   "cell_type": "markdown",
   "id": "e62aaf72-0da2-4441-83e3-8056155143ea",
   "metadata": {},
   "source": [
    "# __Ques 6__\n",
    "1. Training Set: The training set is a subset of the data used to train the machine learning model. The model learns from the patterns and relationships within the training data to make predictions on new data.\n",
    "\n",
    "1. Test Set: The test set is a subset of the data used to evaluate the performance of the model after it has been trained. It is important that the test data is not used during the training process to avoid overfitting. Overfitting occurs when a model learns the noise in the training data and performs poorly on new data.\n",
    "\n",
    "1. Validation Set: The validation set is a subset of the data used to tune the hyperparameters of the model. Hyperparameters are settings that cannot be learned from the data, such as the learning rate or the number of hidden layers in a neural network. The validation set is used to select the best hyperparameters to improve the performance of the model on the test data."
   ]
  },
  {
   "cell_type": "markdown",
   "id": "f39d8757-bb0d-44ec-9f17-8af07d4774fe",
   "metadata": {},
   "source": [
    "The importance of each term:\n",
    "\n",
    "1. __Training Set:__ The training set is important because it is used to teach the model to make predictions. Without a training set, the model cannot learn from the data and will not be able to make accurate predictions.\n",
    "\n",
    "1. __Test Set:__ The test set is important because it provides an estimate of the model's performance on new, unseen data. If the model performs well on the test set, it is likely to perform well on new data as well.\n",
    "\n",
    "1. __Validation Set:__ The validation set is important because it is used to select the best hyperparameters for the model. Without a validation set, it is difficult to determine the optimal hyperparameters and the model may not perform as well on new data."
   ]
  },
  {
   "cell_type": "markdown",
   "id": "b5a12c1a-8369-4f03-8c43-6747e13ea75b",
   "metadata": {},
   "source": [
    "# __Ques 7__\n",
    "Unsupervised learning is a useful technique for anomaly detection because it allows us to find patterns or structures in the data that may indicate the presence of anomalies. Anomalies are data points that differ significantly from the normal behavior of the system, and they can be difficult to detect using traditional supervised learning techniques.\n",
    "<br>\n",
    "There are several ways that unsupervised learning can be used for anomaly detection:\n",
    "\n",
    "1. __Clustering:__ Clustering is a common unsupervised learning technique that can be used to group similar data points together. Anomalies can be identified as data points that do not fit into any of the clusters or are assigned to clusters with very few data points.\n",
    "\n",
    "2. __Density-based methods:__ Density-based methods, such as DBSCAN, can be used to identify regions of high density in the data. Anomalies can be identified as data points that are not part of any high-density region."
   ]
  },
  {
   "cell_type": "markdown",
   "id": "aa28ff14-49c1-4a41-b6a2-d8d26d20863f",
   "metadata": {},
   "source": [
    "# __Ques 8__\n",
    "__Supervised Learning Algorithms:__<br>\n",
    "\n",
    "1. Linear Regression\n",
    "1. Logistic Regression\n",
    "1. Decision Trees\n",
    "1. K-Nearest Neighbors (KNN)\n",
    "1. Neural Networks\n"
   ]
  },
  {
   "cell_type": "markdown",
   "id": "ae63bf8f-d6a0-4d29-91a0-a3247033d3e4",
   "metadata": {},
   "source": [
    "__Unsupervised Learning Algorithms:__<br>\n",
    "1. K-Means Clustering\n",
    "1. Hierarchical Clustering\n",
    "1. Self-Organizing Maps (SOM)\n",
    "1. Generative Adversarial Networks (GAN)"
   ]
  },
  {
   "cell_type": "code",
   "execution_count": null,
   "id": "8f79a7d5-d2cc-4a4c-bcf2-d0fa4a5ad6fa",
   "metadata": {},
   "outputs": [],
   "source": []
  }
 ],
 "metadata": {
  "kernelspec": {
   "display_name": "Python 3 (ipykernel)",
   "language": "python",
   "name": "python3"
  },
  "language_info": {
   "codemirror_mode": {
    "name": "ipython",
    "version": 3
   },
   "file_extension": ".py",
   "mimetype": "text/x-python",
   "name": "python",
   "nbconvert_exporter": "python",
   "pygments_lexer": "ipython3",
   "version": "3.10.8"
  }
 },
 "nbformat": 4,
 "nbformat_minor": 5
}
